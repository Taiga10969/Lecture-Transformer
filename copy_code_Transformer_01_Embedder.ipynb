{
  "nbformat": 4,
  "nbformat_minor": 0,
  "metadata": {
    "colab": {
      "provenance": [],
      "authorship_tag": "ABX9TyPCDl/bplTGVDbQpfRb7dEA",
      "include_colab_link": true
    },
    "kernelspec": {
      "name": "python3",
      "display_name": "Python 3"
    },
    "language_info": {
      "name": "python"
    }
  },
  "cells": [
    {
      "cell_type": "markdown",
      "metadata": {
        "id": "view-in-github",
        "colab_type": "text"
      },
      "source": [
        "<a href=\"https://colab.research.google.com/github/Taiga10969/Lecture-Transformer/blob/main/copy_code_Transformer_01_Embedder.ipynb\" target=\"_parent\"><img src=\"https://colab.research.google.com/assets/colab-badge.svg\" alt=\"Open In Colab\"/></a>"
      ]
    },
    {
      "cell_type": "markdown",
      "source": [
        "# 写経して理解するTransformer_01：Embedder\n",
        "\n",
        "Transformerでは最初にInput Embeddingという処理を行い，トークンの数値データをトークン毎に任意の次元のベクトルとして埋め込む．<br>\n",
        "これにより，1つのトークンを表している数値データが任意次元のベクトルに変換され，単語同士の関係性を捉えることができるようになる．<br>\n",
        "モデルは，埋め込みによって獲得した各トークンのベクトルを用いて処理を行う．"
      ],
      "metadata": {
        "id": "Nvl91jgzqf7Q"
      }
    },
    {
      "cell_type": "markdown",
      "source": [
        "## 必要ライブラリのインポート"
      ],
      "metadata": {
        "id": "caTBFVoItExo"
      }
    },
    {
      "cell_type": "code",
      "source": [
        "import torch\n",
        "import torch.nn as nn\n",
        "from transformers import GPT2Tokenizer"
      ],
      "metadata": {
        "id": "xCffw1dJoyiA"
      },
      "execution_count": 6,
      "outputs": []
    },
    {
      "cell_type": "markdown",
      "source": [
        "## 【Embedderクラスの定義】"
      ],
      "metadata": {
        "id": "-kduGxZ6tdei"
      }
    },
    {
      "cell_type": "code",
      "source": [
        "class Embedder(nn.Module):\n",
        "    def __init__(self, vocab_size, d_model):\n",
        "        super().__init__()\n",
        "        self.embedding = nn.Embedding(vocab_size, d_model) # torch.nn の nn.Embedding を利用\n",
        "        self.d_model = d_model\n",
        "\n",
        "    def forward(self, x):\n",
        "        # x：torch.Size([1, 7]) << [batch_size, src_len]\n",
        "        embedded = self.embedding(x)\n",
        "        # embedded : torch.Size([1, 7, 128]) << [batch_size, src_len, d_model]\n",
        "        return embedded"
      ],
      "metadata": {
        "id": "gD3mXhzMo1hn"
      },
      "execution_count": 7,
      "outputs": []
    },
    {
      "cell_type": "markdown",
      "source": [
        "## Embedderの挙動確認"
      ],
      "metadata": {
        "id": "N3e7XbQMo3ZI"
      }
    },
    {
      "cell_type": "code",
      "source": [
        "# トークナイザーの定義\n",
        "# 文字列をトークンのID列に変換するトークナイザーはGPT-2のものを使用します\n",
        "tokenizer = GPT2Tokenizer.from_pretrained('gpt2',\n",
        "                                          #add_bos_token = True\n",
        "                                          )\n",
        "# トークナイザーのボキャブラリーサイズ\n",
        "print('tokenizer.vocab_size : ', tokenizer.vocab_size)"
      ],
      "metadata": {
        "colab": {
          "base_uri": "https://localhost:8080/"
        },
        "id": "TH_cVks1m7Q3",
        "outputId": "c9ab2f95-118f-4228-d358-bc853fcf704f"
      },
      "execution_count": 8,
      "outputs": [
        {
          "output_type": "stream",
          "name": "stdout",
          "text": [
            "tokenizer.vocab_size :  50257\n"
          ]
        }
      ]
    },
    {
      "cell_type": "code",
      "source": [
        "# 疑似データ（TokenizerでID化されたデータの入力を想定）\n",
        "# 入力するtextを定義\n",
        "text = \"Artificial intelligence (AI) is\"\n",
        "\n",
        "# 入力するtextをトークナイザーを用いて数値(id)化する\n",
        "inputs = tokenizer(text, return_tensors='pt',)\n",
        "\n",
        "# モデルに入力するID列を表示・形状を確認\n",
        "print(\"inputs['input_ids']　: \", inputs['input_ids'])\n",
        "print(\"inputs['input_ids'].shape　: \", inputs['input_ids'].shape)"
      ],
      "metadata": {
        "colab": {
          "base_uri": "https://localhost:8080/"
        },
        "id": "rh60scGGnDzK",
        "outputId": "73708b3a-5c0a-4aae-e47a-0c387b07afa4"
      },
      "execution_count": 9,
      "outputs": [
        {
          "output_type": "stream",
          "name": "stdout",
          "text": [
            "inputs['input_ids']　:  tensor([[ 8001,  9542,  4430,   357, 20185,     8,   318]])\n",
            "inputs['input_ids'].shape　:  torch.Size([1, 7])\n"
          ]
        }
      ]
    },
    {
      "cell_type": "code",
      "source": [
        "# ボキャブラリーサイズはGPT-2のトークナイザに依存\n",
        "# 埋め込み次元数は128に設定\n",
        "vocab_size = tokenizer.vocab_size\n",
        "d_model = 128\n",
        "\n",
        "# Embedderクラスのインスタンス化\n",
        "embedder = Embedder(vocab_size, d_model)\n",
        "\n",
        "# ID列をembedderに入力して各トークンIDを埋め込みベクトルに変換\n",
        "embedded_data = embedder(inputs['input_ids'])\n",
        "\n",
        "# 埋め込み後のデータのサイズを確認\n",
        "print(\"embedded_data.shape : \", embedded_data.shape)"
      ],
      "metadata": {
        "colab": {
          "base_uri": "https://localhost:8080/"
        },
        "id": "pWv4rldTplqZ",
        "outputId": "a07be703-bd3f-447f-8c3d-3afc319a4c8c"
      },
      "execution_count": 10,
      "outputs": [
        {
          "output_type": "stream",
          "name": "stdout",
          "text": [
            "embedded_data.shape :  torch.Size([1, 7, 128])\n"
          ]
        }
      ]
    }
  ]
}