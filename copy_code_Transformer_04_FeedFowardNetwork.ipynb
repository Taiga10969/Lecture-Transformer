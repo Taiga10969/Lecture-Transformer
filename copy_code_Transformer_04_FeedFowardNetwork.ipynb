{
  "nbformat": 4,
  "nbformat_minor": 0,
  "metadata": {
    "colab": {
      "provenance": [],
      "authorship_tag": "ABX9TyMzbd3cj55Xu+d90OBDUFYR",
      "include_colab_link": true
    },
    "kernelspec": {
      "name": "python3",
      "display_name": "Python 3"
    },
    "language_info": {
      "name": "python"
    }
  },
  "cells": [
    {
      "cell_type": "markdown",
      "metadata": {
        "id": "view-in-github",
        "colab_type": "text"
      },
      "source": [
        "<a href=\"https://colab.research.google.com/github/Taiga10969/Lecture-Transformer/blob/main/copy_code_Transformer_04_FeedFowardNetwork.ipynb\" target=\"_parent\"><img src=\"https://colab.research.google.com/assets/colab-badge.svg\" alt=\"Open In Colab\"/></a>"
      ]
    },
    {
      "cell_type": "markdown",
      "source": [
        "# 写経して理解するTransformer_04：Feed Forward Network (FFN)\n",
        "\n",
        "Feed Forward Networks(FFN)は，各トークンのベクトルごとに非線形変換処理を行う．\n",
        "これにより，位置情報を考慮したまま特徴を非線形変換でき，モデルが複雑な関数を学習し，より高度な特徴を抽出することができる．\n",
        "FFNは，2つの線形変換とその間のReLU関数により構成される．\n",
        "FFNを式に示す．<br><br>\n",
        "  $\\mathrm{FFN}(x) = \\max(0, xW_1 + b_1)W_2 + b_2$\n",
        "<br><br>\n",
        "ここで，$x$はある位置におけるトークンの特徴量，$W_1$，$b_1$は1つ目の全結合層の重みとバイアス，$W_2$，$b_2$は2つ目の全結合層の重みとバイアスを表す．"
      ],
      "metadata": {
        "id": "Nvl91jgzqf7Q"
      }
    },
    {
      "cell_type": "markdown",
      "source": [
        "## 必要ライブラリのインポート"
      ],
      "metadata": {
        "id": "caTBFVoItExo"
      }
    },
    {
      "cell_type": "code",
      "source": [
        "import torch\n",
        "import torch.nn as nn\n",
        "import torch.nn.functional as F"
      ],
      "metadata": {
        "id": "xCffw1dJoyiA"
      },
      "execution_count": 1,
      "outputs": []
    },
    {
      "cell_type": "markdown",
      "source": [
        "## 【FeedForwardNetworkクラスの定義】"
      ],
      "metadata": {
        "id": "-kduGxZ6tdei"
      }
    },
    {
      "cell_type": "code",
      "source": [
        "class FeedForwardNetwork(nn.Module):\n",
        "\n",
        "  def __init__(self, dim, hidden_dim, dropout=0.1):\n",
        "    super().__init__()\n",
        "    self.dropout = nn.Dropout(dropout)\n",
        "    self.linear_1 = nn.Linear(dim, hidden_dim)\n",
        "    self.relu = nn.ReLU()\n",
        "    self.linear_2 = nn.Linear(hidden_dim, dim)\n",
        "\n",
        "  def forward(self, x):\n",
        "    x = self.linear_1(x)\n",
        "    x = self.relu(x)\n",
        "    x = self.dropout(x)\n",
        "    x = self.linear_2(x)\n",
        "    return x"
      ],
      "metadata": {
        "id": "gD3mXhzMo1hn"
      },
      "execution_count": 2,
      "outputs": []
    },
    {
      "cell_type": "markdown",
      "source": [
        "## FeedForwardNetworkの挙動確認"
      ],
      "metadata": {
        "id": "N3e7XbQMo3ZI"
      }
    },
    {
      "cell_type": "code",
      "source": [
        "# 疑似データ（Embedderによって1batch,7tokenが埋め込まれた，埋め込み次元数128のデータ）\n",
        "input_data = torch.randn(1, 7, 128)\n",
        "\n",
        "d_model = 128\n",
        "hidden_dim = 512  # ヘッド数を4に設定\n",
        "\n",
        "# Multi-Head Attentionモデルの作成\n",
        "ffn = FeedForwardNetwork(d_model, hidden_dim)\n",
        "\n",
        "# テストデータをMulti-Head Attentionに流す\n",
        "output = ffn(input_data)\n",
        "\n",
        "# 出力のサイズを確認\n",
        "print(\"output.shape:\", output.shape)"
      ],
      "metadata": {
        "colab": {
          "base_uri": "https://localhost:8080/"
        },
        "id": "LMguJwbtSpCp",
        "outputId": "1a05d6a1-9070-4292-8380-2bfdd9b43e21"
      },
      "execution_count": 3,
      "outputs": [
        {
          "output_type": "stream",
          "name": "stdout",
          "text": [
            "output.shape: torch.Size([1, 7, 128])\n"
          ]
        }
      ]
    }
  ]
}