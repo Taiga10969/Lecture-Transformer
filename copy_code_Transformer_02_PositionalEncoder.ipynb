{
  "nbformat": 4,
  "nbformat_minor": 0,
  "metadata": {
    "colab": {
      "provenance": [],
      "authorship_tag": "ABX9TyNZOah91hDWjFCYFHdjTrBy",
      "include_colab_link": true
    },
    "kernelspec": {
      "name": "python3",
      "display_name": "Python 3"
    },
    "language_info": {
      "name": "python"
    }
  },
  "cells": [
    {
      "cell_type": "markdown",
      "metadata": {
        "id": "view-in-github",
        "colab_type": "text"
      },
      "source": [
        "<a href=\"https://colab.research.google.com/github/Taiga10969/Lecture-Transformer/blob/main/copy_code_Transformer_02_PositionalEncoder.ipynb\" target=\"_parent\"><img src=\"https://colab.research.google.com/assets/colab-badge.svg\" alt=\"Open In Colab\"/></a>"
      ]
    },
    {
      "cell_type": "markdown",
      "source": [
        "# 写経して理解するTransformer_02：PositionalEncoder\n",
        "\n",
        "Positional Encodingとは，各トークンが系列中の何番目に位置するのかを表す位置情報を，符号化関数を用いてベクトルの次元数と同じ$d_{model}$次元のベクトルに変換することである．\n",
        "位置情報を示す符号化関数として正弦波と余弦波を用いた関数が用いられる．\n",
        "符号化関数$PE$を式に示す．<br>\n",
        "<br>\n",
        "$PE_{(pos,2i)}=\\sin\\left(\\frac{pos}{10000^{\\frac{2i}{d_{model}}}}\\right)$<br>\n",
        "<br>\n",
        "$PE_{(pos,2i+1)}=\\cos\\left(\\frac{pos}{10000^{\\frac{2i}{d_{model}}}}\\right)$<br>\n",
        "<br>\n",
        "ここで，$pos$は単語の位置，$i$は各トークンのベクトルにおける各次元のインデックス，$d_{model}$は単語の埋め込み次元数を表す．<br>\n",
        "この位置情報を示すベクトルを各トークンのベクトルに加算することで，トークンが持つ意味的情報に位置情報を追加する．"
      ],
      "metadata": {
        "id": "Nvl91jgzqf7Q"
      }
    },
    {
      "cell_type": "markdown",
      "source": [
        "## 必要ライブラリのインポート"
      ],
      "metadata": {
        "id": "caTBFVoItExo"
      }
    },
    {
      "cell_type": "code",
      "source": [
        "import math\n",
        "import torch\n",
        "import torch.nn as nn\n",
        "import matplotlib.pyplot as plt"
      ],
      "metadata": {
        "id": "xCffw1dJoyiA"
      },
      "execution_count": 1,
      "outputs": []
    },
    {
      "cell_type": "markdown",
      "source": [
        "## 【PositionalEncoderクラスの定義】"
      ],
      "metadata": {
        "id": "-kduGxZ6tdei"
      }
    },
    {
      "cell_type": "code",
      "source": [
        "class PositionalEncoder(nn.Module):\n",
        "    def __init__(self, d_model, max_seq_len):\n",
        "        super().__init__()\n",
        "\n",
        "        self.d_model = d_model\n",
        "\n",
        "        pe = torch.zeros(max_seq_len, d_model)\n",
        "\n",
        "        for pos in range(max_seq_len):\n",
        "            for i in range(0, d_model, 2):\n",
        "                pe[pos, i] = math.sin(pos / (10000 ** ((2*i) / d_model)))\n",
        "                pe[pos, i+1] = math.cos(pos / (10000 ** ((2*i) / d_model)))\n",
        "\n",
        "        self.pe = nn.Parameter(pe, requires_grad=False)\n",
        "\n",
        "    def forward(self, x):\n",
        "        batch_size, seq_len, _ = x.size()\n",
        "        ret = math.sqrt(self.d_model) * x + self.pe[:seq_len, :].unsqueeze(0)\n",
        "        return ret\n",
        "\n",
        "    def get_pe(self, x):\n",
        "        batch_size, seq_len, _ = x.size()\n",
        "        return self.pe[:seq_len, :].unsqueeze(0)"
      ],
      "metadata": {
        "id": "gD3mXhzMo1hn"
      },
      "execution_count": 2,
      "outputs": []
    },
    {
      "cell_type": "markdown",
      "source": [
        "## PositionalEncoderの挙動確認"
      ],
      "metadata": {
        "id": "N3e7XbQMo3ZI"
      }
    },
    {
      "cell_type": "code",
      "source": [
        "# 疑似データ（Embedderによって1batch,7tokenが埋め込まれた，埋め込み次元数128のデータ）\n",
        "input_data = torch.randn(1, 7, 128)\n",
        "\n",
        "d_model = 128\n",
        "max_seq_len = 256\n",
        "# PositionalEncoderクラスのインスタンス化\n",
        "pos_encoder = PositionalEncoder(d_model, max_seq_len)\n",
        "\n",
        "output = pos_encoder(input_data)\n",
        "print(\"output.shape\", output.shape) # 次元数に変化がないことを確認\n",
        "\n",
        "# PositionalEncoder の処理の前後のデータの確認\n",
        "# 0番目のトークンの埋め込みベクトルの最初の5次元を可視化\n",
        "print(\"PositionalEncoder before : \", input_data[0][0][:5])\n",
        "print(\"PositionalEncoder after  : \", output[0][0][:5])"
      ],
      "metadata": {
        "colab": {
          "base_uri": "https://localhost:8080/"
        },
        "id": "rh60scGGnDzK",
        "outputId": "141e35c8-c306-43e1-e8c9-9bf9743b3a6e"
      },
      "execution_count": 3,
      "outputs": [
        {
          "output_type": "stream",
          "name": "stdout",
          "text": [
            "output.shape torch.Size([1, 7, 128])\n",
            "PositionalEncoder before :  tensor([-1.1768,  0.8528, -0.3700, -0.0126,  1.5318])\n",
            "PositionalEncoder after  :  tensor([-13.3142,  10.6486,  -4.1862,   0.8577,  17.3298])\n"
          ]
        }
      ]
    },
    {
      "cell_type": "code",
      "source": [
        "# 付与している位置情報を確認\n",
        "# PositionalEncoderクラスに実装したget_peメソッドを使う\n",
        "pe = pos_encoder.get_pe(input_data)\n",
        "pe.shape"
      ],
      "metadata": {
        "colab": {
          "base_uri": "https://localhost:8080/"
        },
        "id": "tOLsvMezQEti",
        "outputId": "a4ff207f-49a4-4609-916f-ae625f390478"
      },
      "execution_count": 4,
      "outputs": [
        {
          "output_type": "execute_result",
          "data": {
            "text/plain": [
              "torch.Size([1, 7, 128])"
            ]
          },
          "metadata": {},
          "execution_count": 4
        }
      ]
    },
    {
      "cell_type": "code",
      "source": [
        "# ヒートマップの描画\n",
        "plt.figure(figsize=(10, 6))\n",
        "plt.imshow(pe[0].numpy(), cmap='hot', interpolation='nearest')\n",
        "plt.colorbar(label='Value')\n",
        "plt.title('PE')\n",
        "plt.xlabel('embed_size')\n",
        "plt.ylabel('src_pos')\n",
        "plt.show()\n"
      ],
      "metadata": {
        "colab": {
          "base_uri": "https://localhost:8080/",
          "height": 504
        },
        "id": "tmut2TamSQwS",
        "outputId": "7b033563-9d8a-46d0-927b-a8223bd3248d"
      },
      "execution_count": 5,
      "outputs": [
        {
          "output_type": "display_data",
          "data": {
            "text/plain": [
              "<Figure size 1000x600 with 2 Axes>"
            ],
            "image/png": "[encoded data removed]"
          },
          "metadata": {}
        }
      ]
    }
  ]
}